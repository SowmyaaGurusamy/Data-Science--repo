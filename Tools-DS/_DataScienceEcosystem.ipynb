{
 "cells": [
  {
   "cell_type": "markdown",
   "metadata": {},
   "source": [
    "<center>\n",
    "    <img src=\"https://cf-courses-data.s3.us.cloud-object-storage.appdomain.cloud/IBMDeveloperSkillsNetwork-DS0105EN-SkillsNetwork/labs/Module2/images/SN_web_lightmode.png\" width=\"300\" alt=\"cognitiveclass.ai logo\">\n",
    "</center>\n"
   ]
  },
  {
   "cell_type": "markdown",
   "metadata": {},
   "source": [
    "#### Add your code below following the instructions given in the course\n"
   ]
  },
  {
   "cell_type": "markdown",
   "metadata": {},
   "source": [
    "# Data Science Tools and Ecosystem"
   ]
  },
  {
   "cell_type": "markdown",
   "metadata": {},
   "source": [
    "- In this notebook, Data Science Tools and Ecosystem are summarized."
   ]
  },
  {
   "cell_type": "markdown",
   "metadata": {},
   "source": [
    "### Some of the popular languages that Data Scientists use are:\n",
    "- Python\n",
    "- R programming\n",
    "- Julia"
   ]
  },
  {
   "cell_type": "markdown",
   "metadata": {},
   "source": [
    "### Some of the commonly used libraries used by Data Scientists include:\n",
    "1. Pandas\n",
    "2. Numpy\n",
    "3. Scipy\n",
    "\n"
   ]
  },
  {
   "cell_type": "markdown",
   "metadata": {},
   "source": [
    "## Data Science Tools"
   ]
  },
  {
   "cell_type": "markdown",
   "metadata": {},
   "source": [
    "| Tool               | Description                                   |\n",
    "| ------------------ | --------------------------------------------- |\n",
    "| Python             | A versatile programming language for data analysis, machine learning, and more. |\n",
    "| R                  | A language and environment for statistical computing and graphics. |\n",
    "| Jupyter Notebook   | An open-source web application for interactive data analysis and visualization. |\n",
    "| TensorFlow         | An open-source machine learning framework developed by Google. |\n",
    "| scikit-learn       | A machine learning library for Python with a wide range of algorithms. |\n",
    "| Pandas             | A Python library for data manipulation and analysis. |\n",
    "| NumPy              | A fundamental package for scientific computing with Python. |\n",
    "| Matplotlib         | A Python library for creating static, animated, and interactive visualizations. |\n",
    "| Seaborn            | A data visualization library based on Matplotlib, with a higher-level interface. |\n",
    "| Tableau            | A powerful data visualization and business intelligence tool. |\n",
    "| Power BI           | A business analytics service for interactive visualizations and reports. |\n",
    "| SQL                | A standard language for querying and managing relational databases. |\n"
   ]
  },
  {
   "cell_type": "markdown",
   "metadata": {},
   "source": [
    "### Below are a few examples of evaluating arithmetic expressions in Python"
   ]
  },
  {
   "cell_type": "markdown",
   "metadata": {},
   "source": [
    "## Arithmetic Expression Examples\n",
    "\n",
    "Arithmetic expressions are fundamental in mathematics and programming. They involve various mathematical operations to perform calculations. In this section, we'll explore some common arithmetic expression examples.\n",
    "\n",
    "### Basic Operations\n",
    "\n",
    "1. **Addition:** Adding two numbers together.\n",
    "   - Example: `2 + 3 = 5`\n",
    "\n",
    "2. **Subtraction:** Subtracting one number from another.\n",
    "   - Example: `5 - 2 = 3`\n",
    "\n",
    "3. **Multiplication:** Multiplying two numbers.\n",
    "   - Example: `4 * 6 = 24`\n",
    "\n",
    "4. **Division:** Dividing one number by another.\n",
    "   - Example: `8 / 2 = 4`\n",
    "\n",
    "### Order of Operations\n",
    "\n",
    "Arithmetic expressions often involve multiple operations. To ensure the correct result, we follow the order of operations (PEMDAS/BODMAS):\n",
    "- **P**arentheses/Brackets\n",
    "- **E**xponents/Orders (i.e., powers and square roots)\n",
    "- **M**ultiplication and **D**ivision (left-to-right)\n",
    "- **A**ddition and **S**ubtraction (left-to-right)\n",
    "\n",
    "5. **Complex Expression:** An example illustrating the order of operations.\n",
    "   - Example: `2 * (3 + 4) = 14` (First, evaluate the expression inside parentheses, then perform the multiplication.)\n",
    "\n",
    "### Fractions and Decimals\n",
    "\n",
    "6. **Fractions:** Arithmetic operations with fractions.\n",
    "   - Example: `1/2 + 1/3 = 5/6`\n",
    "\n",
    "7. **Decimals:** Arithmetic operations with decimals.\n",
    "   - Example: `0.75 - 0.25 = 0.5`\n",
    "\n",
    "### More Advanced Operations\n",
    "\n",
    "8. **Exponents:** Raising a number to a power.\n",
    "   - Example: `2^3 = 8`\n",
    "\n",
    "9. **Square Roots:** Finding the square root of a number.\n",
    "   - Example: `√25 = 5`\n",
    "\n",
    "These examples cover some of the\n"
   ]
  },
  {
   "cell_type": "markdown",
   "metadata": {},
   "source": [
    "### This will convert 200 minutes to hours by diving by 60"
   ]
  },
  {
   "cell_type": "markdown",
   "metadata": {},
   "source": [
    "```python\n",
    "# Convert Minutes to Hours\n",
    "\n",
    "# Input: Minutes\n",
    "minutes = 180\n",
    "\n",
    "# Convert minutes to hours\n",
    "hours = minutes / 60\n",
    "\n",
    "# Display the result\n",
    "hours\n"
   ]
  },
  {
   "cell_type": "markdown",
   "metadata": {},
   "source": [
    "```python\n",
    "# Convert 200 minutes to hours by dividing by 60\n",
    "# This will convert 200 minutes into hours.\n",
    "hours = 200 / 60\n",
    "\n",
    "# Display the result\n",
    "hours\n"
   ]
  },
  {
   "cell_type": "markdown",
   "metadata": {},
   "source": [
    "## Objectives:"
   ]
  },
  {
   "cell_type": "markdown",
   "metadata": {},
   "source": [
    "**List popular languages for Data Science.**"
   ]
  },
  {
   "cell_type": "code",
   "execution_count": null,
   "metadata": {},
   "outputs": [],
   "source": []
  }
 ],
 "metadata": {
  "kernelspec": {
   "display_name": "Python",
   "language": "python",
   "name": "conda-env-python-py"
  },
  "language_info": {
   "codemirror_mode": {
    "name": "ipython",
    "version": 3
   },
   "file_extension": ".py",
   "mimetype": "text/x-python",
   "name": "python",
   "nbconvert_exporter": "python",
   "pygments_lexer": "ipython3",
   "version": "3.7.12"
  }
 },
 "nbformat": 4,
 "nbformat_minor": 4
}
